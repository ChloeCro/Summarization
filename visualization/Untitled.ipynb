{
 "cells": [
  {
   "cell_type": "code",
   "execution_count": 1,
   "id": "5cf97c17-3ea0-4c65-b623-5eb3855c0564",
   "metadata": {},
   "outputs": [],
   "source": [
    "# imports\n",
    "import os\n",
    "import re\n",
    "import pandas as pd\n",
    "import rechtspraak_extractor as rex\n",
    "import numpy as np\n",
    "from bs4 import BeautifulSoup"
   ]
  },
  {
   "cell_type": "code",
   "execution_count": 2,
   "id": "41ec9ca8-70cb-4c36-9f7e-3d3287fe0be9",
   "metadata": {},
   "outputs": [
    {
     "name": "stderr",
     "output_type": "stream",
     "text": [
      "INFO:root:Rechtspraak dump downloader API\n",
      "INFO:root:Checking the API\n",
      "INFO:root:API is working fine!\n",
      "INFO:root:Getting 1000 documents from 1900-01-01 till 2023-11-02\n",
      "INFO:root:Found 1000 cases!\n",
      "INFO:root:Total execution time: 0:0:1.51\n",
      "INFO:root:\n",
      "\n",
      "INFO:root:Rechtspraak metadata API\n",
      "INFO:root:Maximum 15 threads supported by your machine.\n",
      "INFO:root:Getting metadata of 1000 ECLIs\n",
      "INFO:root:Working. Please wait...\n",
      " 99%|\u001b[32m█████████▉\u001b[0m| 991/1000 [00:32<00:00, 27.10it/s]INFO:root:Total execution time: 0:0:33.37\n",
      "INFO:root:\n",
      "\n",
      "100%|\u001b[32m██████████\u001b[0m| 1000/1000 [3:49:40<00:00, 27.10it/s]"
     ]
    }
   ],
   "source": [
    "df = rex.get_rechtspraak(max_ecli=1000, save_file='n')\n",
    "\n",
    "df_metadata = rex.get_rechtspraak_metadata(save_file='n', dataframe=df)"
   ]
  },
  {
   "cell_type": "code",
   "execution_count": null,
   "id": "07a19e7f-9f30-4692-9dc2-59e9c460f9e2",
   "metadata": {},
   "outputs": [],
   "source": []
  }
 ],
 "metadata": {
  "kernelspec": {
   "display_name": "Python 3 (ipykernel)",
   "language": "python",
   "name": "python3"
  },
  "language_info": {
   "codemirror_mode": {
    "name": "ipython",
    "version": 3
   },
   "file_extension": ".py",
   "mimetype": "text/x-python",
   "name": "python",
   "nbconvert_exporter": "python",
   "pygments_lexer": "ipython3",
   "version": "3.9.12"
  }
 },
 "nbformat": 4,
 "nbformat_minor": 5
}
