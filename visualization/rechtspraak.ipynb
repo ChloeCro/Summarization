{
 "cells": [
  {
   "cell_type": "markdown",
   "id": "095acb42-61dc-40be-b8f0-3b82a721b5b4",
   "metadata": {},
   "source": [
    "# Structuring and Summarizing Rechtspraak documents"
   ]
  },
  {
   "cell_type": "markdown",
   "id": "3e21d625-534a-46db-9ada-cb001cfb2040",
   "metadata": {},
   "source": [
    " **Table of content:**\n",
    " - [Loading the data](#data-extraction)\n",
    " - [Statistics 'inhoudsindicatie'](#statistics-inhoud)\n",
    " - [Document structuring using headings clustering ](#head-cluster)\n",
    " - [Section summarization using XML data](#sec-sum)\n",
    " - [Full-text summarization using rechtspraak extractor data](#full-sum)\n",
    " - [Segmented summarization using XML data](#part-sum)\n",
    " - [Interesting Sources](#sources)"
   ]
  },
  {
   "cell_type": "markdown",
   "id": "8e748e5a-b6d4-4952-ab82-768a549d254b",
   "metadata": {
    "tags": []
   },
   "source": [
    "### Imports"
   ]
  },
  {
   "cell_type": "code",
   "execution_count": null,
   "id": "058b9b3d-f31e-4c49-ae12-76a8ec503d49",
   "metadata": {},
   "outputs": [],
   "source": [
    "#pip install rechtspraak_extractor"
   ]
  },
  {
   "cell_type": "code",
   "execution_count": 1,
   "id": "b0a662bc-6e89-463b-bcb6-c9b015d6ecc2",
   "metadata": {},
   "outputs": [],
   "source": [
    "# imports of generally used libraries\n",
    "import os\n",
    "import re\n",
    "import string\n",
    "import pandas as pd\n",
    "import rechtspraak_extractor as rex\n",
    "import numpy as np\n",
    "from bs4 import BeautifulSoup\n",
    "import matplotlib.pyplot as plt"
   ]
  },
  {
   "cell_type": "markdown",
   "id": "d8725f6c",
   "metadata": {
    "tags": []
   },
   "source": [
    "<a id=\"data-extraction\"></a>\n",
    "## Loading the data"
   ]
  },
  {
   "cell_type": "code",
   "execution_count": 2,
   "id": "7e4b5c6c",
   "metadata": {},
   "outputs": [],
   "source": [
    "rs_df = pd.read_csv(\"2022_rs_data.csv\")"
   ]
  },
  {
   "cell_type": "code",
   "execution_count": 3,
   "id": "7e2d475c",
   "metadata": {},
   "outputs": [
    {
     "data": {
      "text/plain": [
       "<bound method NDFrame.head of                         ecli        date  \\\n",
       "0         ECLI:NL:CBB:2022:1  2022-01-11   \n",
       "1        ECLI:NL:CBB:2022:10  2022-01-18   \n",
       "2       ECLI:NL:CBB:2022:100  2022-03-08   \n",
       "3       ECLI:NL:CBB:2022:101  2022-03-08   \n",
       "4       ECLI:NL:CBB:2022:102  2022-03-08   \n",
       "...                      ...         ...   \n",
       "130330     ECLI:NL:XX:2022:5  2022-01-28   \n",
       "130331     ECLI:NL:XX:2022:6  2022-02-28   \n",
       "130332     ECLI:NL:XX:2022:7  2022-02-15   \n",
       "130333     ECLI:NL:XX:2022:8  2022-03-28   \n",
       "130334     ECLI:NL:XX:2022:9  2022-03-25   \n",
       "\n",
       "                                         inhoudsindicatie  \\\n",
       "0       \\n\\nArtikel 2:3, eerste lid, van de Algemene w...   \n",
       "1       \\n\\nMond - en klauwzeer. Medio maart 2001 is i...   \n",
       "2       \\n\\n-\\tBeleidsregel tegemoetkoming ondernemers...   \n",
       "3       \\nWarenwet, hoger beroep, Verordening 853/2004...   \n",
       "4       \\nRegeling garanties van oorsprong en certific...   \n",
       "...                                                   ...   \n",
       "130330                                                NaN   \n",
       "130331                                                NaN   \n",
       "130332                                                NaN   \n",
       "130333                                                NaN   \n",
       "130334                                                NaN   \n",
       "\n",
       "                                               title_list  \\\n",
       "0         ['Procesverloop', 'Overwegingen', 'Beslissing']   \n",
       "1         ['Procesverloop', 'Overwegingen', 'Beslissing']   \n",
       "2         ['Procesverloop', 'Overwegingen', 'Beslissing']   \n",
       "3       ['Procesverloop in hoger beroep', 'Grondslag v...   \n",
       "4         ['Procesverloop', 'Overwegingen', 'Beslissing']   \n",
       "...                                                   ...   \n",
       "130330                                                 []   \n",
       "130331                                                 []   \n",
       "130332                                                 []   \n",
       "130333                                                 []   \n",
       "130334                                                 []   \n",
       "\n",
       "                                            sections_list  \\\n",
       "0       ['\\nBij besluit van 2 oktober 2020 (het primai...   \n",
       "1       ['\\nBij besluit van 29 maart 2001 (het primair...   \n",
       "2       ['\\nBij besluit van 3 februari 2021 (het prima...   \n",
       "3       ['\\nDe minister heeft hoger beroep ingesteld t...   \n",
       "4       ['\\nBij afzonderlijke besluiten van 30 septemb...   \n",
       "...                                                   ...   \n",
       "130330                                                 []   \n",
       "130331                                                 []   \n",
       "130332                                                 []   \n",
       "130333                                                 []   \n",
       "130334                                                 []   \n",
       "\n",
       "                                            procesverloop  \\\n",
       "0       Bij besluit van 2 oktober 2020 (het primaire b...   \n",
       "1       Bij besluit van 29 maart 2001 (het primaire be...   \n",
       "2       Bij besluit van 3 februari 2021 (het primaire ...   \n",
       "3       De minister heeft hoger beroep ingesteld tegen...   \n",
       "4       Bij afzonderlijke besluiten van 30 september 2...   \n",
       "...                                                   ...   \n",
       "130330                                                NaN   \n",
       "130331                                                NaN   \n",
       "130332                                                NaN   \n",
       "130333                                                NaN   \n",
       "130334                                                NaN   \n",
       "\n",
       "                                             overwegingen  \\\n",
       "0       1.1\\nAppellant heeft op 10 mei 2020 een aanvra...   \n",
       "1                                                     NaN   \n",
       "2                                                     NaN   \n",
       "3       4. Aan de boete ligt ten grondslag dat het zui...   \n",
       "4       Inleiding\\n\\n\\n\\n\\n1.1\\nAppellanten exploitere...   \n",
       "...                                                   ...   \n",
       "130330                                                NaN   \n",
       "130331                                                NaN   \n",
       "130332                                                NaN   \n",
       "130333                                                NaN   \n",
       "130334                                                NaN   \n",
       "\n",
       "                                               beslissing  \n",
       "0       Het College:\\n\\n- verklaart het beroep gegrond...  \n",
       "1       Het College: \\n\\n\\n\\n\\nverklaart het beroep ge...  \n",
       "2       Het College:\\n\\n- verklaart het beroep gegrond...  \n",
       "3       Het College \\n\\n\\n\\n\\nbevestigt de aangevallen...  \n",
       "4       Het College: \\n\\n\\n\\nverklaart de beroepen geg...  \n",
       "...                                                   ...  \n",
       "130330                                                NaN  \n",
       "130331                                                NaN  \n",
       "130332                                                NaN  \n",
       "130333                                                NaN  \n",
       "130334                                                NaN  \n",
       "\n",
       "[130335 rows x 8 columns]>"
      ]
     },
     "execution_count": 3,
     "metadata": {},
     "output_type": "execute_result"
    }
   ],
   "source": [
    "rs_df.head"
   ]
  },
  {
   "cell_type": "markdown",
   "id": "9bee8ebf-1ecc-43fa-a7a7-4ca3a7e7cbdd",
   "metadata": {
    "jp-MarkdownHeadingCollapsed": true,
    "tags": []
   },
   "source": [
    "<a id=\"statistics-inhoud\"></a>\n",
    "## Statistics 'inhoudsindicatie'\n",
    "\n",
    "In this section, I perform some computations to get average length, shortest, longest and the distribution of length from all text under 'inhoudsindicatie' from 2022 cases"
   ]
  },
  {
   "cell_type": "code",
   "execution_count": null,
   "id": "8df3c19d-83be-4de3-bc11-16e09537b946",
   "metadata": {},
   "outputs": [],
   "source": []
  },
  {
   "cell_type": "code",
   "execution_count": 51,
   "id": "2d32b34d-16a3-4bb5-b2a4-7a14337b3968",
   "metadata": {},
   "outputs": [],
   "source": [
    "def get_inhoud(filepath):\n",
    "    file = open(filepath, \"r\", encoding='utf-8')\n",
    "    contents = file.read()\n",
    "    soup = BeautifulSoup(contents, 'xml')\n",
    "    \n",
    "    try:\n",
    "        inhoud = soup.find(\"inhoudsindicatie\").text\n",
    "    except:\n",
    "        inhoud = \"\"\n",
    "    \n",
    "    inhoud = inhoud.replace(\"\\n\", \"\")\n",
    "    #print(inhoud)\n",
    "    \n",
    "    return len(inhoud)\n",
    "        "
   ]
  },
  {
   "cell_type": "code",
   "execution_count": null,
   "id": "118f1aa4-cc4e-463a-8858-32057e471e8b",
   "metadata": {},
   "outputs": [],
   "source": [
    "path = 'unzip_data\\\\2022'\n",
    "\n",
    "inhoud = []\n",
    "counter = 0\n",
    "for root, dirs, files in os.walk(path):\n",
    "    print(len(files))\n",
    "    for name in files:\n",
    "        if counter % 10000 == 0:\n",
    "            print(counter)\n",
    "        #print(name)\n",
    "        file = os.path.join(root, name)\n",
    "        inhoud_length = get_inhoud(file)\n",
    "        inhoud.append(inhoud_length)\n",
    "        counter += 1\n",
    "\n",
    "print(inhoud)"
   ]
  },
  {
   "cell_type": "code",
   "execution_count": 53,
   "id": "0f2a2c61-2376-48b0-bf02-8d5b4196dd7c",
   "metadata": {},
   "outputs": [
    {
     "name": "stdout",
     "output_type": "stream",
     "text": [
      "[    0     1     2 ... 11742 12492 12709]\n",
      "[78903    78   297 ...     1     1     1]\n"
     ]
    }
   ],
   "source": [
    "inhoud_copy = inhoud.copy()\n",
    "\n",
    "uni, cnt = np.unique(inhoud_copy, return_counts=True)\n",
    "\n",
    "print(uni)\n",
    "print(cnt)"
   ]
  },
  {
   "cell_type": "code",
   "execution_count": 57,
   "id": "9bf3ccd2-6b11-4cbc-952e-b20c92ece246",
   "metadata": {},
   "outputs": [
    {
     "data": {
      "text/plain": [
       "130.6026853876549"
      ]
     },
     "execution_count": 57,
     "metadata": {},
     "output_type": "execute_result"
    }
   ],
   "source": [
    "np.mean(inhoud_copy)"
   ]
  },
  {
   "cell_type": "code",
   "execution_count": 59,
   "id": "d5aa368d-12b7-4ab8-b581-4048c7b24063",
   "metadata": {},
   "outputs": [
    {
     "data": {
      "text/plain": [
       "130.6026853876549"
      ]
     },
     "execution_count": 59,
     "metadata": {},
     "output_type": "execute_result"
    }
   ],
   "source": [
    "np.average(inhoud_copy)"
   ]
  },
  {
   "cell_type": "code",
   "execution_count": 61,
   "id": "7489727c-079d-4f49-b369-f9e4cfea43b6",
   "metadata": {},
   "outputs": [
    {
     "data": {
      "text/plain": [
       "49"
      ]
     },
     "execution_count": 61,
     "metadata": {},
     "output_type": "execute_result"
    }
   ],
   "source": [
    "inhoud_no_zeros = [i for i in inhoud_copy if i != 0]\n",
    "max(set(inhoud_no_zeros), key = inhoud_no_zeros.count)"
   ]
  },
  {
   "cell_type": "code",
   "execution_count": 65,
   "id": "c1024998-06cb-45b0-bc8e-b77d5e0671cc",
   "metadata": {},
   "outputs": [
    {
     "name": "stdout",
     "output_type": "stream",
     "text": [
      "[   0   49    3   53   12   52    2   71  254    5  253  255   40  252\n",
      "  197    6  196  193  194   56  250  120    7   79   50   76   31   35\n",
      "   32  166  215  249  251   98   77  247   41   78  246   39  214   51\n",
      "   64   57  216   94  121  198  242  118   45   33   69   75   70  243\n",
      "   90   42   48  199  192   44   84   83   97   68   73  177   74  127\n",
      "  245  134  116  248  124   61  175  165  122  203  244   37   63   54\n",
      "  178   67   62   36   87  144  195   86  151  202   46  155   80   91\n",
      "   81  117  102  133  179  174   85  108   66   93  104   89  105   60\n",
      "   30   88  239  205  114  240  148  107   92  241  211   58   65   82\n",
      "  101   43  110   55   95  212   25   47  236  146  137  159  112   99\n",
      "  125  171  109  143  172  149  200   72  160  106  100  142   96  201\n",
      "  147  111   34  164  119  237  136  129  217  154  173   59  131  130\n",
      "  176  222   38  169    8  113  210  132  180  221  187  158  145  140\n",
      "  139  126  235  152  170  181  115  138  156  103  226  123  191  213\n",
      "  150  128  228  182  162   21  163  208  153  204  234  224   17    4\n",
      "  135  229  189  188  220  231  207  184  238   29  223  185  157  183\n",
      "  186  230  256  161  141  209   23  167  168   27  227  190  232  219\n",
      "   22  218   19    9  233    1   14  225   24   26   16   28  271  206\n",
      "  272   20  268  276   18  278  270  267  269  262  279   15  265  258\n",
      "   13  339  283  259  277  307  287  330  315  286  305  298  280  303\n",
      "  291  274  260  342  382  266  261  392  336  325  293  263  273  304\n",
      "  299  288  312  323   10  404  344  337  300   11  275  321  285  292\n",
      "  319  257  409  390  352  384  377  308  281  353  311  296  380  320\n",
      "  394  284  264  473  297  332  359  290  289  302  306  317  324  301\n",
      "  313  475  343  341  331  361  294  439  374  282  396  354  335  417\n",
      "  357  329  395  355  446  410  310  407  418  327  295  334  400  401\n",
      "  373  425  427  389  393  370  413  414  309  449  314  348  386  464\n",
      "  347  506  479  391  421  423  441  426  356  318  372  351  397  326\n",
      "  316  328  508  422  415  443  454  428  456  363  375  403  350  420\n",
      "  460  450  433  487  416  961  477  476  435  452  365  369  406  338\n",
      "  405  402  367  366  387  345  440  322  484  419  368  523  470  488\n",
      "  447  503  385  525  408  490  333  349  358  512  467  535  555  987\n",
      "  411  445  424  398  379  436  444  482  346  579  451  472  471  572\n",
      "  526  429  496  510  592  834  522  513  442  455  453  499  493  502\n",
      "  732  340  514  626  912  371  543  399  589  602  364  590  469  480\n",
      "  542  556  504  362  596  466  376  528  489  613  437  524  676  531\n",
      "  685  546 1011  383  548  615  927  458  485  778  777  491  457  434\n",
      "  931  478  647  954  468  623  378  598  465  959 1866  381  360  529\n",
      "  438  552  461  459 1009 1001  729  839  430  463  580  574  993  651\n",
      "  938  950  989  412 1013  673  789  969  971 1006  986  706  935  746\n",
      "  607  568 1014  518  517  448  431  557  500  994  550  599  601  509\n",
      "  541  617  619  870  594  483  515  537  536  662  677 1004  627  554\n",
      "  562  909  895  577  573  586  983  957  530  498  874  958  486  936\n",
      "  956  558  962  964  569  933  494  652  928  966  980  920  791  603\n",
      "  553  887  481  946  687  820  565  614  693  953  951  932  949  697\n",
      "  694  678  474 1005 1000  672  519  520  808  716  679  560  710  985\n",
      "  708  616  973  610  910  628  612  507  388  634  916  731  597  595\n",
      "  921  925  947  521  812  713  913  551  974  686  688  606  711  882\n",
      "  917  583  821  545  544 1019  967  852  926  588  996  570  559  867\n",
      "  899  575  984  492  501  665  497  876  622 1010 1012  671  978  991\n",
      "  972  997  975  787  738  798  751  750  725  979  823  862 1023  635\n",
      "  696  576  629  924  585  540  919  618  587  880  881  624  886  645\n",
      "  462  690  689  901 1008  527  675  649  549  906  659 1016  840  663\n",
      "  976  977  769  900  897  908  865  918  872  970  923  853  794  432\n",
      "  939  940  941  772  837  563  632  717  621  724  999  727  539  608\n",
      "  631  511 1002  702  600  593  739  620  571  638  684 1021  566 1145\n",
      "  646  699  982  654  532  873  648 1003  674  868  814  644  641  718\n",
      "  701  811  801  657  960  764  981  567  561  747  988  581  776 1865\n",
      "  740  888  781  495  889  786  721  722  877  883  878  965  788 1037\n",
      "  591  934  844  655  903 1018  650  636  625  609  871  856  611  859\n",
      "  760  668  905  726  841  792  728  516  705  704  995  736  992  741\n",
      "  775  944  719  682  763  828  770  831  666  505  669  758  894  907\n",
      "  564  968  752  604  782  896  723  767  990  656  807  642  942  857\n",
      "  692  937  805  860  639  830  698  845  533 1024  866  817  838  707\n",
      "  955  922  761  998 1138  948 1165 1025  929 1070  733  802  854  851\n",
      "  849  703  714  790  547  735  743  833  832  578  827  749  904  768\n",
      "  683  670  898  637  892  640  643  658  773  534  809  779  813  869\n",
      "  582  754  762  757  784  766  774  902  748  584  730  695 1044  681\n",
      "  667  664  661  660 1015  605  755 1066  793  630  855  819  858  945\n",
      "  816 1152  952 1166  850  829  914  890  891  847  836  538  885  930\n",
      "  709  712 1191  861 1040 1198  864  875 1036 1029  911 1026 1060  846\n",
      "  799  737  963 1108  633 1132]\n"
     ]
    }
   ],
   "source": [
    "out = uni[np.argsort(-cnt)]\n",
    "print(out[:1000])"
   ]
  },
  {
   "cell_type": "markdown",
   "id": "8cc95bde-1dbd-44cb-8dd1-06d64bcda005",
   "metadata": {
    "jp-MarkdownHeadingCollapsed": true,
    "tags": []
   },
   "source": [
    "<a id=\"head-cluster\"></a>\n",
    "## Document structuring using headings clustering "
   ]
  },
  {
   "cell_type": "code",
   "execution_count": 21,
   "id": "23be0763-54c6-4c77-ab6f-f531d51677b1",
   "metadata": {},
   "outputs": [],
   "source": [
    "from sklearn.feature_extraction.text import TfidfVectorizer\n",
    "from sklearn.cluster import KMeans\n",
    "import advertools as adv"
   ]
  },
  {
   "cell_type": "code",
   "execution_count": 22,
   "id": "5bce65c7-73ca-418c-994f-7b1f1a45b7ec",
   "metadata": {},
   "outputs": [
    {
     "name": "stdout",
     "output_type": "stream",
     "text": [
      "['wil', 'je', 'in', 'dus', 'me', 'ook', 'heeft', 'het', 'aan', 'hoe', 'ja', 'kon', 'uit', 'zelf', 'met', 'wat', 'eens', 'door', 'hem', 'mij', 'ze', 'zo', 'zich', 'ge', 'hij', 'andere', 'haar', 'als', 'is', 'reeds', 'voor', 'waren', 'zei', 'geweest', 'men', 'niets', 'al', 'wij', 'en', 'niet', 'ben', 'heb', 'wel', 'uw', 'of', 'u', 'hebben', 'zijn', 'tot', 'hun', 'kunnen', 'meer', 'toch', 'er', 'we', 'veel', 'dat', 'de', 'nu', 'dit', 'om', 'tegen', 'ik', 'had', 'moet', 'zij', 'worden', 'naar', 'zonder', 'doen', 'over', 'kan', 'want', 'alles', 'zal', 'maar', 'af', 'altijd', 'hier', 'deze', 'iets', 'werd', 'wie', 'te', 'geen', 'bij', 'was', 'wezen', 'zou', 'toen', 'van', 'een', 'ons', 'der', 'dan', 'doch', 'daar', 'nog', 'mijn', 'op', 'die', 'iemand', 'omdat', 'na']\n"
     ]
    }
   ],
   "source": [
    "stopwords_dutch = list(adv.stopwords['dutch'])\n",
    "print(stopwords_dutch)"
   ]
  },
  {
   "cell_type": "code",
   "execution_count": 23,
   "id": "9459b42f-dbd4-46ef-838b-e20351a4e109",
   "metadata": {},
   "outputs": [],
   "source": [
    "rs_metadata = rs_metadata.applymap(str)\n",
    "tfidf_vectorizer = TfidfVectorizer(stop_words=stopwords_dutch)\n",
    "tfidf_matrix = tfidf_vectorizer.fit_transform(rs_metadata['headings'])"
   ]
  },
  {
   "cell_type": "code",
   "execution_count": 24,
   "id": "7befae8e-46a1-4052-abff-9ba53c43ec53",
   "metadata": {},
   "outputs": [
    {
     "data": {
      "text/plain": [
       "KMeans(n_clusters=12)"
      ]
     },
     "execution_count": 24,
     "metadata": {},
     "output_type": "execute_result"
    }
   ],
   "source": [
    "num_clusters = 12  # You can choose the number of clusters\n",
    "kmeans = KMeans(n_clusters=num_clusters)\n",
    "kmeans.fit(tfidf_matrix)"
   ]
  },
  {
   "cell_type": "code",
   "execution_count": 25,
   "id": "c7837156-cc4a-4890-a332-9b852c7cb036",
   "metadata": {},
   "outputs": [],
   "source": [
    "cluster_labels = kmeans.labels_\n",
    "rs_metadata = rs_metadata.assign(cluster_label=cluster_labels)"
   ]
  },
  {
   "cell_type": "code",
   "execution_count": null,
   "id": "59808662-9344-44c8-9067-a949b6ab18a3",
   "metadata": {},
   "outputs": [],
   "source": [
    "print(rs_metadata)"
   ]
  },
  {
   "cell_type": "code",
   "execution_count": 27,
   "id": "97ed32fe-aa48-4cad-88cd-7bc325242ea3",
   "metadata": {},
   "outputs": [],
   "source": [
    "rs_metadata.to_csv(\"cluster_labels.csv\", index=False)"
   ]
  },
  {
   "cell_type": "code",
   "execution_count": null,
   "id": "b4c2e11d-ab9e-4729-ac83-8588f4143e00",
   "metadata": {},
   "outputs": [],
   "source": []
  },
  {
   "cell_type": "markdown",
   "id": "95fcfff9",
   "metadata": {},
   "source": [
    "<a id=\"sec-sum\"></a>\n",
    "## Section summarization using XML data"
   ]
  },
  {
   "cell_type": "code",
   "execution_count": null,
   "id": "5133959c",
   "metadata": {},
   "outputs": [],
   "source": []
  },
  {
   "cell_type": "markdown",
   "id": "46497d2a-3630-4a46-940f-f2316c3f389d",
   "metadata": {
    "tags": []
   },
   "source": [
    "<a id=\"full-sum\"></a>\n",
    "## Full-text summarization using rechtspraak extractor data\n",
    "\n",
    "In this section, we will summarize the judgements based on the full-text extracted using the rechtspraak extractor package.\n",
    "\n",
    " **Table of content:**\n",
    " - [Clustering and Word2Vec](#clus-word2vec)\n",
    " - [Transformer models](#transformer)"
   ]
  },
  {
   "cell_type": "markdown",
   "id": "bb986de0-185f-4f17-8f15-3eb68ba70e4d",
   "metadata": {},
   "source": [
    "<a id=\"clus-word2vec\"></a>\n",
    "### Clustering and Word2Vec\n",
    "\n",
    "The steps we undertake are as follows:\n",
    "\n",
    "- Split full-text into sentences\n",
    "- Clean the data\n",
    "- Get the vector representation of sentences\n",
    "- Clustering\n",
    "- Get summarized text"
   ]
  },
  {
   "cell_type": "markdown",
   "id": "b4ebc45a-43c4-418f-be51-da5c2533210b",
   "metadata": {},
   "source": [
    "#### Loading the data with Rechtspraak extractor"
   ]
  },
  {
   "cell_type": "code",
   "execution_count": 28,
   "id": "2e9106c1-78c3-4aff-a56b-9bc411ee09db",
   "metadata": {},
   "outputs": [
    {
     "name": "stderr",
     "output_type": "stream",
     "text": [
      "INFO:root:Rechtspraak dump downloader API\n",
      "INFO:root:Checking the API\n",
      "INFO:root:API is working fine!\n",
      "INFO:root:Getting 1000 documents from 1900-01-01 till 2023-11-20\n",
      "INFO:root:Found 1000 cases!\n",
      "INFO:root:Total execution time: 0:0:2.34\n",
      "INFO:root:\n",
      "\n",
      "INFO:root:Rechtspraak metadata API\n",
      "INFO:root:Maximum 15 threads supported by your machine.\n",
      "INFO:root:Getting metadata of 1000 ECLIs\n",
      "INFO:root:Working. Please wait...\n",
      " 99%|\u001b[32m█████████▉\u001b[0m| 994/1000 [00:31<00:00, 31.78it/s]INFO:root:Total execution time: 0:0:32.89\n",
      "INFO:root:\n",
      "\n"
     ]
    }
   ],
   "source": [
    "df = rex.get_rechtspraak(max_ecli=1000, save_file='n')\n",
    "\n",
    "df_metadata = rex.get_rechtspraak_metadata(save_file='n', dataframe=df)"
   ]
  },
  {
   "cell_type": "code",
   "execution_count": 29,
   "id": "3a610e92-d466-4128-b9b4-f827f6bd82c2",
   "metadata": {},
   "outputs": [
    {
     "data": {
      "text/html": [
       "<div>\n",
       "<style scoped>\n",
       "    .dataframe tbody tr th:only-of-type {\n",
       "        vertical-align: middle;\n",
       "    }\n",
       "\n",
       "    .dataframe tbody tr th {\n",
       "        vertical-align: top;\n",
       "    }\n",
       "\n",
       "    .dataframe thead th {\n",
       "        text-align: right;\n",
       "    }\n",
       "</style>\n",
       "<table border=\"1\" class=\"dataframe\">\n",
       "  <thead>\n",
       "    <tr style=\"text-align: right;\">\n",
       "      <th></th>\n",
       "      <th>ecli</th>\n",
       "      <th>full_text</th>\n",
       "      <th>creator</th>\n",
       "      <th>date_decision</th>\n",
       "      <th>issued</th>\n",
       "      <th>zaaknummer</th>\n",
       "      <th>type</th>\n",
       "      <th>relations</th>\n",
       "      <th>references</th>\n",
       "      <th>subject</th>\n",
       "      <th>procedure</th>\n",
       "      <th>inhoudsindicatie</th>\n",
       "      <th>hasVersion</th>\n",
       "      <th>summary</th>\n",
       "    </tr>\n",
       "  </thead>\n",
       "  <tbody>\n",
       "    <tr>\n",
       "      <th>0</th>\n",
       "      <td>ECLI:NL:RBARN:1998:AA1005</td>\n",
       "      <td>\\n\\nARRONDISSEMENTSRECHTBANK TE ARNHEM\\nReg.nr...</td>\n",
       "      <td>Rechtbank Arnhem</td>\n",
       "      <td>1998-12-07</td>\n",
       "      <td>2013-04-04</td>\n",
       "      <td>98/2137 98/2138</td>\n",
       "      <td>Uitspraak</td>\n",
       "      <td></td>\n",
       "      <td></td>\n",
       "      <td>Bestuursrecht; Omgevingsrecht</td>\n",
       "      <td>Voorlopige voorziening</td>\n",
       "      <td>\\n-\\n</td>\n",
       "      <td>\\n\\nRechtspraak.nl\\n\\n</td>\n",
       "      <td>-</td>\n",
       "    </tr>\n",
       "    <tr>\n",
       "      <th>1</th>\n",
       "      <td>ECLI:NL:RBLEE:1999:AA1049</td>\n",
       "      <td>\\nARRONDISSEMENTSRECHTBANK TE LEEUWARDEN\\n\\n\\n...</td>\n",
       "      <td>Rechtbank Leeuwarden</td>\n",
       "      <td>1999-10-20</td>\n",
       "      <td>2013-04-04</td>\n",
       "      <td>99-1491</td>\n",
       "      <td>Uitspraak</td>\n",
       "      <td></td>\n",
       "      <td></td>\n",
       "      <td>Civiel recht; Personen- en familierecht</td>\n",
       "      <td>Eerste aanleg - enkelvoudig</td>\n",
       "      <td>\\n-\\n</td>\n",
       "      <td>\\n\\nRechtspraak.nl\\n\\n</td>\n",
       "      <td>-</td>\n",
       "    </tr>\n",
       "    <tr>\n",
       "      <th>2</th>\n",
       "      <td>ECLI:NL:RBSGR:1999:AA1079</td>\n",
       "      <td>\\n\\nPresident van de Arrondissementsrechtbank ...</td>\n",
       "      <td>Rechtbank 's-Gravenhage</td>\n",
       "      <td>1999-03-03</td>\n",
       "      <td>2013-04-04</td>\n",
       "      <td>9901115</td>\n",
       "      <td>Uitspraak</td>\n",
       "      <td></td>\n",
       "      <td></td>\n",
       "      <td>Bestuursrecht; Ambtenarenrecht</td>\n",
       "      <td>Eerste aanleg - enkelvoudig</td>\n",
       "      <td>\\n-\\n</td>\n",
       "      <td>\\n\\nRechtspraak.nl\\n\\n</td>\n",
       "      <td>-</td>\n",
       "    </tr>\n",
       "    <tr>\n",
       "      <th>3</th>\n",
       "      <td>ECLI:NL:RBLEE:1999:AA1052</td>\n",
       "      <td>\\nARRONDISSEMENTSRECHTBANK TE LEEUWARDEN\\n\\n\\n...</td>\n",
       "      <td>Rechtbank Leeuwarden</td>\n",
       "      <td>1999-10-20</td>\n",
       "      <td>2013-04-04</td>\n",
       "      <td>99-298</td>\n",
       "      <td>Uitspraak</td>\n",
       "      <td></td>\n",
       "      <td></td>\n",
       "      <td>Civiel recht; Personen- en familierecht</td>\n",
       "      <td>Eerste aanleg - enkelvoudig</td>\n",
       "      <td>\\n-\\n</td>\n",
       "      <td>\\n\\nRechtspraak.nl\\n\\n</td>\n",
       "      <td>-</td>\n",
       "    </tr>\n",
       "    <tr>\n",
       "      <th>4</th>\n",
       "      <td>ECLI:NL:RBSGR:1999:AA1074</td>\n",
       "      <td>\\n\\nPresident van de Arrondissementsrechtbank ...</td>\n",
       "      <td>Rechtbank 's-Gravenhage</td>\n",
       "      <td>1999-07-21</td>\n",
       "      <td>2013-04-04</td>\n",
       "      <td>99/5056 en 99/5627</td>\n",
       "      <td>Uitspraak</td>\n",
       "      <td></td>\n",
       "      <td></td>\n",
       "      <td>Bestuursrecht; Omgevingsrecht</td>\n",
       "      <td>Voorlopige voorziening</td>\n",
       "      <td>\\n-\\n</td>\n",
       "      <td>\\n\\nRechtspraak.nl\\n\\n</td>\n",
       "      <td>-</td>\n",
       "    </tr>\n",
       "    <tr>\n",
       "      <th>...</th>\n",
       "      <td>...</td>\n",
       "      <td>...</td>\n",
       "      <td>...</td>\n",
       "      <td>...</td>\n",
       "      <td>...</td>\n",
       "      <td>...</td>\n",
       "      <td>...</td>\n",
       "      <td>...</td>\n",
       "      <td>...</td>\n",
       "      <td>...</td>\n",
       "      <td>...</td>\n",
       "      <td>...</td>\n",
       "      <td>...</td>\n",
       "      <td>...</td>\n",
       "    </tr>\n",
       "    <tr>\n",
       "      <th>995</th>\n",
       "      <td>ECLI:NL:GHAMS:2001:AA9756</td>\n",
       "      <td>\\nGERECHTSHOF TE AMSTERDAM\\n\\n\\nUITSPRAAK VAN ...</td>\n",
       "      <td>Gerechtshof Amsterdam</td>\n",
       "      <td>2001-01-17</td>\n",
       "      <td>2013-04-04</td>\n",
       "      <td>00/3671</td>\n",
       "      <td>Uitspraak</td>\n",
       "      <td></td>\n",
       "      <td></td>\n",
       "      <td>Bestuursrecht; Belastingrecht</td>\n",
       "      <td>Eerste aanleg - enkelvoudig</td>\n",
       "      <td>\\nVoorlopige voorziening. Inlenersaansprakelij...</td>\n",
       "      <td>\\n\\nRechtspraak.nl\\n\\n</td>\n",
       "      <td>Voorlopige voorziening. Inlenersaansprakelijkh...</td>\n",
       "    </tr>\n",
       "    <tr>\n",
       "      <th>996</th>\n",
       "      <td>ECLI:NL:RBSGR:2000:AA9741</td>\n",
       "      <td>\\n\\nArrondissementsrechtbank te 's-Gravenhage\\...</td>\n",
       "      <td>Rechtbank 's-Gravenhage</td>\n",
       "      <td>2000-03-03</td>\n",
       "      <td>2013-04-04</td>\n",
       "      <td>AWB 98/8773</td>\n",
       "      <td>Uitspraak</td>\n",
       "      <td></td>\n",
       "      <td></td>\n",
       "      <td>Bestuursrecht; Vreemdelingenrecht</td>\n",
       "      <td>Bodemzaak</td>\n",
       "      <td>\\n\\nNoord-Irak / Koerd / IWCP / vestigingsalte...</td>\n",
       "      <td>\\n\\nRechtspraak.nl\\n\\n</td>\n",
       "      <td>Noord-Irak / Koerd / IWCP / vestigingsalternat...</td>\n",
       "    </tr>\n",
       "    <tr>\n",
       "      <th>997</th>\n",
       "      <td>ECLI:NL:RBASS:2001:AA9750</td>\n",
       "      <td>\\nArrondissementsrechtbank Assen\\n\\n\\n\\n\\n\\nKe...</td>\n",
       "      <td>Rechtbank Assen</td>\n",
       "      <td>2001-01-26</td>\n",
       "      <td>2013-04-04</td>\n",
       "      <td>00/912</td>\n",
       "      <td>Uitspraak</td>\n",
       "      <td></td>\n",
       "      <td></td>\n",
       "      <td>Bestuursrecht; Omgevingsrecht</td>\n",
       "      <td>Voorlopige voorziening</td>\n",
       "      <td>\\n-\\n</td>\n",
       "      <td>\\n\\nRechtspraak.nl\\n\\n</td>\n",
       "      <td>-</td>\n",
       "    </tr>\n",
       "    <tr>\n",
       "      <th>998</th>\n",
       "      <td>ECLI:NL:GHAMS:2001:AA9758</td>\n",
       "      <td>\\n\\nGERECHTSHOF TE AMSTERDAM\\nTwaalfde Enkelvo...</td>\n",
       "      <td>Gerechtshof Amsterdam</td>\n",
       "      <td>2001-01-12</td>\n",
       "      <td>2013-04-04</td>\n",
       "      <td>98/1859</td>\n",
       "      <td>Uitspraak</td>\n",
       "      <td></td>\n",
       "      <td></td>\n",
       "      <td>Bestuursrecht; Belastingrecht</td>\n",
       "      <td>Eerste aanleg - enkelvoudig</td>\n",
       "      <td>\\nOntvankelijkheid bezwaar (tijdigheid en moti...</td>\n",
       "      <td>\\n\\nRechtspraak.nl\\n\\n</td>\n",
       "      <td>Ontvankelijkheid bezwaar (tijdigheid en motive...</td>\n",
       "    </tr>\n",
       "    <tr>\n",
       "      <th>999</th>\n",
       "      <td>ECLI:NL:RBASS:2001:AA9763</td>\n",
       "      <td>\\nArrondissementsrechtbank Assen\\n\\n\\n\\n\\nKenm...</td>\n",
       "      <td>Rechtbank Assen</td>\n",
       "      <td>2001-01-30</td>\n",
       "      <td>2013-04-04</td>\n",
       "      <td>01/76</td>\n",
       "      <td>Uitspraak</td>\n",
       "      <td></td>\n",
       "      <td></td>\n",
       "      <td>Bestuursrecht; Omgevingsrecht</td>\n",
       "      <td>Voorlopige voorziening</td>\n",
       "      <td>\\n-\\n</td>\n",
       "      <td>\\n\\nRechtspraak.nl\\n\\n</td>\n",
       "      <td>-</td>\n",
       "    </tr>\n",
       "  </tbody>\n",
       "</table>\n",
       "<p>1000 rows × 14 columns</p>\n",
       "</div>"
      ],
      "text/plain": [
       "                          ecli  \\\n",
       "0    ECLI:NL:RBARN:1998:AA1005   \n",
       "1    ECLI:NL:RBLEE:1999:AA1049   \n",
       "2    ECLI:NL:RBSGR:1999:AA1079   \n",
       "3    ECLI:NL:RBLEE:1999:AA1052   \n",
       "4    ECLI:NL:RBSGR:1999:AA1074   \n",
       "..                         ...   \n",
       "995  ECLI:NL:GHAMS:2001:AA9756   \n",
       "996  ECLI:NL:RBSGR:2000:AA9741   \n",
       "997  ECLI:NL:RBASS:2001:AA9750   \n",
       "998  ECLI:NL:GHAMS:2001:AA9758   \n",
       "999  ECLI:NL:RBASS:2001:AA9763   \n",
       "\n",
       "                                             full_text  \\\n",
       "0    \\n\\nARRONDISSEMENTSRECHTBANK TE ARNHEM\\nReg.nr...   \n",
       "1    \\nARRONDISSEMENTSRECHTBANK TE LEEUWARDEN\\n\\n\\n...   \n",
       "2    \\n\\nPresident van de Arrondissementsrechtbank ...   \n",
       "3    \\nARRONDISSEMENTSRECHTBANK TE LEEUWARDEN\\n\\n\\n...   \n",
       "4    \\n\\nPresident van de Arrondissementsrechtbank ...   \n",
       "..                                                 ...   \n",
       "995  \\nGERECHTSHOF TE AMSTERDAM\\n\\n\\nUITSPRAAK VAN ...   \n",
       "996  \\n\\nArrondissementsrechtbank te 's-Gravenhage\\...   \n",
       "997  \\nArrondissementsrechtbank Assen\\n\\n\\n\\n\\n\\nKe...   \n",
       "998  \\n\\nGERECHTSHOF TE AMSTERDAM\\nTwaalfde Enkelvo...   \n",
       "999  \\nArrondissementsrechtbank Assen\\n\\n\\n\\n\\nKenm...   \n",
       "\n",
       "                     creator date_decision      issued          zaaknummer  \\\n",
       "0           Rechtbank Arnhem    1998-12-07  2013-04-04     98/2137 98/2138   \n",
       "1       Rechtbank Leeuwarden    1999-10-20  2013-04-04             99-1491   \n",
       "2    Rechtbank 's-Gravenhage    1999-03-03  2013-04-04             9901115   \n",
       "3       Rechtbank Leeuwarden    1999-10-20  2013-04-04              99-298   \n",
       "4    Rechtbank 's-Gravenhage    1999-07-21  2013-04-04  99/5056 en 99/5627   \n",
       "..                       ...           ...         ...                 ...   \n",
       "995    Gerechtshof Amsterdam    2001-01-17  2013-04-04             00/3671   \n",
       "996  Rechtbank 's-Gravenhage    2000-03-03  2013-04-04         AWB 98/8773   \n",
       "997          Rechtbank Assen    2001-01-26  2013-04-04              00/912   \n",
       "998    Gerechtshof Amsterdam    2001-01-12  2013-04-04             98/1859   \n",
       "999          Rechtbank Assen    2001-01-30  2013-04-04               01/76   \n",
       "\n",
       "          type relations references                                  subject  \\\n",
       "0    Uitspraak                                 Bestuursrecht; Omgevingsrecht   \n",
       "1    Uitspraak                       Civiel recht; Personen- en familierecht   \n",
       "2    Uitspraak                                Bestuursrecht; Ambtenarenrecht   \n",
       "3    Uitspraak                       Civiel recht; Personen- en familierecht   \n",
       "4    Uitspraak                                 Bestuursrecht; Omgevingsrecht   \n",
       "..         ...       ...        ...                                      ...   \n",
       "995  Uitspraak                                 Bestuursrecht; Belastingrecht   \n",
       "996  Uitspraak                             Bestuursrecht; Vreemdelingenrecht   \n",
       "997  Uitspraak                                 Bestuursrecht; Omgevingsrecht   \n",
       "998  Uitspraak                                 Bestuursrecht; Belastingrecht   \n",
       "999  Uitspraak                                 Bestuursrecht; Omgevingsrecht   \n",
       "\n",
       "                       procedure  \\\n",
       "0         Voorlopige voorziening   \n",
       "1    Eerste aanleg - enkelvoudig   \n",
       "2    Eerste aanleg - enkelvoudig   \n",
       "3    Eerste aanleg - enkelvoudig   \n",
       "4         Voorlopige voorziening   \n",
       "..                           ...   \n",
       "995  Eerste aanleg - enkelvoudig   \n",
       "996                    Bodemzaak   \n",
       "997       Voorlopige voorziening   \n",
       "998  Eerste aanleg - enkelvoudig   \n",
       "999       Voorlopige voorziening   \n",
       "\n",
       "                                      inhoudsindicatie  \\\n",
       "0                                                \\n-\\n   \n",
       "1                                                \\n-\\n   \n",
       "2                                                \\n-\\n   \n",
       "3                                                \\n-\\n   \n",
       "4                                                \\n-\\n   \n",
       "..                                                 ...   \n",
       "995  \\nVoorlopige voorziening. Inlenersaansprakelij...   \n",
       "996  \\n\\nNoord-Irak / Koerd / IWCP / vestigingsalte...   \n",
       "997                                              \\n-\\n   \n",
       "998  \\nOntvankelijkheid bezwaar (tijdigheid en moti...   \n",
       "999                                              \\n-\\n   \n",
       "\n",
       "                 hasVersion                                            summary  \n",
       "0    \\n\\nRechtspraak.nl\\n\\n                                                  -  \n",
       "1    \\n\\nRechtspraak.nl\\n\\n                                                  -  \n",
       "2    \\n\\nRechtspraak.nl\\n\\n                                                  -  \n",
       "3    \\n\\nRechtspraak.nl\\n\\n                                                  -  \n",
       "4    \\n\\nRechtspraak.nl\\n\\n                                                  -  \n",
       "..                      ...                                                ...  \n",
       "995  \\n\\nRechtspraak.nl\\n\\n  Voorlopige voorziening. Inlenersaansprakelijkh...  \n",
       "996  \\n\\nRechtspraak.nl\\n\\n  Noord-Irak / Koerd / IWCP / vestigingsalternat...  \n",
       "997  \\n\\nRechtspraak.nl\\n\\n                                                  -  \n",
       "998  \\n\\nRechtspraak.nl\\n\\n  Ontvankelijkheid bezwaar (tijdigheid en motive...  \n",
       "999  \\n\\nRechtspraak.nl\\n\\n                                                  -  \n",
       "\n",
       "[1000 rows x 14 columns]"
      ]
     },
     "execution_count": 29,
     "metadata": {},
     "output_type": "execute_result"
    }
   ],
   "source": [
    "df_metadata"
   ]
  },
  {
   "cell_type": "code",
   "execution_count": null,
   "id": "01cba3f5-39a0-4a9e-94be-407e772989cb",
   "metadata": {},
   "outputs": [],
   "source": [
    "text = df_metadata.iloc[0].full_text\n",
    "print(text)"
   ]
  },
  {
   "cell_type": "code",
   "execution_count": null,
   "id": "3c29278a-e7bd-4f9d-8780-937a668efc89",
   "metadata": {},
   "outputs": [],
   "source": [
    "text = text.replace('\\n', ' ')\n",
    "text = re.sub(r'\\s+', ' ', text)\n",
    "print(text.strip())"
   ]
  },
  {
   "cell_type": "markdown",
   "id": "294c8587-05be-4f4a-bea2-f7d79640bcb5",
   "metadata": {},
   "source": [
    "#### Split the data into sentences"
   ]
  },
  {
   "cell_type": "code",
   "execution_count": 32,
   "id": "b243827b-2e55-4d51-b9fe-7875b6c9d57b",
   "metadata": {},
   "outputs": [
    {
     "name": "stderr",
     "output_type": "stream",
     "text": [
      "[nltk_data] Downloading package punkt to\n",
      "[nltk_data]     C:\\Users\\Chloe\\AppData\\Roaming\\nltk_data...\n",
      "[nltk_data]   Unzipping tokenizers\\punkt.zip.\n"
     ]
    }
   ],
   "source": [
    "import nltk\n",
    "nltk.download('punkt')   # one time execution\n",
    "from nltk.tokenize import sent_tokenize\n",
    "sentence = sent_tokenize(text)"
   ]
  },
  {
   "cell_type": "markdown",
   "id": "6c4e0079-e097-4e9c-acac-7719a34b6e4c",
   "metadata": {},
   "source": [
    "#### Clean the text"
   ]
  },
  {
   "cell_type": "code",
   "execution_count": 33,
   "id": "5c480f2f-38c3-45e2-ba5b-961414485924",
   "metadata": {},
   "outputs": [
    {
     "name": "stderr",
     "output_type": "stream",
     "text": [
      "[nltk_data] Downloading package stopwords to\n",
      "[nltk_data]     C:\\Users\\Chloe\\AppData\\Roaming\\nltk_data...\n",
      "[nltk_data]   Unzipping corpora\\stopwords.zip.\n"
     ]
    }
   ],
   "source": [
    "import re\n",
    "nltk.download('stopwords')  # one time execution\n",
    "from nltk.corpus import stopwords\n",
    "corpus = []\n",
    "for i in range(len(sentence)):\n",
    "    sen = re.sub('[^a-zA-Z]', \" \", sentence[i])  \n",
    "    sen = sen.lower()                            \n",
    "    sen = sen.split()                         \n",
    "    sen = ' '.join([i for i in sen if i not in stopwords.words('dutch')])   \n",
    "    corpus.append(sen)"
   ]
  },
  {
   "cell_type": "markdown",
   "id": "c7794252-83a8-4d72-8fe6-5a652724863e",
   "metadata": {},
   "source": [
    "#### Vector representation"
   ]
  },
  {
   "cell_type": "code",
   "execution_count": 35,
   "id": "6762fb8d-0370-4081-8618-b6449a2c5277",
   "metadata": {},
   "outputs": [
    {
     "name": "stderr",
     "output_type": "stream",
     "text": [
      "INFO:gensim.models.word2vec:collecting all words and their counts\n",
      "INFO:gensim.models.word2vec:PROGRESS: at sentence #0, processed 0 words, keeping 0 word types\n",
      "INFO:gensim.models.word2vec:collected 598 word types from a corpus of 1167 raw words and 87 sentences\n",
      "INFO:gensim.models.word2vec:Creating a fresh vocabulary\n",
      "INFO:gensim.utils:Word2Vec lifecycle event {'msg': 'effective_min_count=1 retains 598 unique words (100.0%% of original 598, drops 0)', 'datetime': '2023-11-20T16:01:04.416542', 'gensim': '4.1.2', 'python': '3.9.12 (main, Apr  4 2022, 05:22:27) [MSC v.1916 64 bit (AMD64)]', 'platform': 'Windows-10-10.0.22621-SP0', 'event': 'prepare_vocab'}\n",
      "INFO:gensim.utils:Word2Vec lifecycle event {'msg': 'effective_min_count=1 leaves 1167 word corpus (100.0%% of original 1167, drops 0)', 'datetime': '2023-11-20T16:01:04.417543', 'gensim': '4.1.2', 'python': '3.9.12 (main, Apr  4 2022, 05:22:27) [MSC v.1916 64 bit (AMD64)]', 'platform': 'Windows-10-10.0.22621-SP0', 'event': 'prepare_vocab'}\n",
      "INFO:gensim.models.word2vec:deleting the raw counts dictionary of 598 items\n",
      "INFO:gensim.models.word2vec:sample=0.001 downsamples 64 most-common words\n",
      "INFO:gensim.utils:Word2Vec lifecycle event {'msg': 'downsampling leaves estimated 985.566638896291 word corpus (84.5%% of prior 1167)', 'datetime': '2023-11-20T16:01:04.424544', 'gensim': '4.1.2', 'python': '3.9.12 (main, Apr  4 2022, 05:22:27) [MSC v.1916 64 bit (AMD64)]', 'platform': 'Windows-10-10.0.22621-SP0', 'event': 'prepare_vocab'}\n",
      "INFO:gensim.models.word2vec:estimated required memory for 598 words and 300 dimensions: 1734200 bytes\n",
      "INFO:gensim.models.word2vec:resetting layer weights\n",
      "INFO:gensim.utils:Word2Vec lifecycle event {'update': False, 'trim_rule': 'None', 'datetime': '2023-11-20T16:01:04.445053', 'gensim': '4.1.2', 'python': '3.9.12 (main, Apr  4 2022, 05:22:27) [MSC v.1916 64 bit (AMD64)]', 'platform': 'Windows-10-10.0.22621-SP0', 'event': 'build_vocab'}\n",
      "INFO:gensim.utils:Word2Vec lifecycle event {'msg': 'training model with 3 workers on 598 vocabulary and 300 features, using sg=0 hs=0 sample=0.001 negative=5 window=5 shrink_windows=True', 'datetime': '2023-11-20T16:01:04.447054', 'gensim': '4.1.2', 'python': '3.9.12 (main, Apr  4 2022, 05:22:27) [MSC v.1916 64 bit (AMD64)]', 'platform': 'Windows-10-10.0.22621-SP0', 'event': 'train'}\n",
      "INFO:gensim.models.word2vec:worker thread finished; awaiting finish of 2 more threads\n",
      "INFO:gensim.models.word2vec:worker thread finished; awaiting finish of 1 more threads\n",
      "INFO:gensim.models.word2vec:worker thread finished; awaiting finish of 0 more threads\n",
      "INFO:gensim.models.word2vec:EPOCH - 1 : training on 1167 raw words (969 effective words) took 0.0s, 267421 effective words/s\n",
      "INFO:gensim.models.word2vec:worker thread finished; awaiting finish of 2 more threads\n",
      "INFO:gensim.models.word2vec:worker thread finished; awaiting finish of 1 more threads\n",
      "INFO:gensim.models.word2vec:worker thread finished; awaiting finish of 0 more threads\n",
      "INFO:gensim.models.word2vec:EPOCH - 2 : training on 1167 raw words (997 effective words) took 0.0s, 146847 effective words/s\n",
      "INFO:gensim.models.word2vec:worker thread finished; awaiting finish of 2 more threads\n",
      "INFO:gensim.models.word2vec:worker thread finished; awaiting finish of 1 more threads\n",
      "INFO:gensim.models.word2vec:worker thread finished; awaiting finish of 0 more threads\n",
      "INFO:gensim.models.word2vec:EPOCH - 3 : training on 1167 raw words (981 effective words) took 0.0s, 417127 effective words/s\n",
      "INFO:gensim.models.word2vec:worker thread finished; awaiting finish of 2 more threads\n",
      "INFO:gensim.models.word2vec:worker thread finished; awaiting finish of 1 more threads\n",
      "INFO:gensim.models.word2vec:worker thread finished; awaiting finish of 0 more threads\n",
      "INFO:gensim.models.word2vec:EPOCH - 4 : training on 1167 raw words (987 effective words) took 0.0s, 402594 effective words/s\n",
      "INFO:gensim.models.word2vec:worker thread finished; awaiting finish of 2 more threads\n",
      "INFO:gensim.models.word2vec:worker thread finished; awaiting finish of 1 more threads\n",
      "INFO:gensim.models.word2vec:worker thread finished; awaiting finish of 0 more threads\n",
      "INFO:gensim.models.word2vec:EPOCH - 5 : training on 1167 raw words (1000 effective words) took 0.0s, 382790 effective words/s\n",
      "INFO:gensim.utils:Word2Vec lifecycle event {'msg': 'training on 5835 raw words (4934 effective words) took 0.0s, 141865 effective words/s', 'datetime': '2023-11-20T16:01:04.482125', 'gensim': '4.1.2', 'python': '3.9.12 (main, Apr  4 2022, 05:22:27) [MSC v.1916 64 bit (AMD64)]', 'platform': 'Windows-10-10.0.22621-SP0', 'event': 'train'}\n",
      "INFO:gensim.utils:Word2Vec lifecycle event {'params': 'Word2Vec(vocab=598, vector_size=300, alpha=0.025)', 'datetime': '2023-11-20T16:01:04.482125', 'gensim': '4.1.2', 'python': '3.9.12 (main, Apr  4 2022, 05:22:27) [MSC v.1916 64 bit (AMD64)]', 'platform': 'Windows-10-10.0.22621-SP0', 'event': 'created'}\n"
     ]
    }
   ],
   "source": [
    "from gensim.models import Word2Vec\n",
    "all_words = [i.split() for i in corpus]\n",
    "model = Word2Vec(all_words, min_count=1, vector_size= 300)"
   ]
  },
  {
   "cell_type": "code",
   "execution_count": 36,
   "id": "6f1ae98f-2935-4ad4-8d5f-111d9061b52d",
   "metadata": {},
   "outputs": [],
   "source": [
    "sent_vector=[]\n",
    "for i in corpus:\n",
    "    \n",
    "    plus=0\n",
    "    for j in i.split():\n",
    "        plus+= model.wv[j]\n",
    "    plus = plus/len(i.split())\n",
    "    \n",
    "    sent_vector.append(plus)"
   ]
  },
  {
   "cell_type": "markdown",
   "id": "a6fb73e3-37d0-430e-8097-71a57877a894",
   "metadata": {},
   "source": [
    "#### Clustering"
   ]
  },
  {
   "cell_type": "code",
   "execution_count": 37,
   "id": "5daa6a2a-bce9-4841-9aea-20dee921719d",
   "metadata": {},
   "outputs": [],
   "source": [
    "import numpy as np\n",
    "from sklearn.cluster import KMeans\n",
    "n_clusters = 5\n",
    "kmeans = KMeans(n_clusters, init = 'k-means++', random_state = 42)\n",
    "y_kmeans = kmeans.fit_predict(sent_vector)"
   ]
  },
  {
   "cell_type": "code",
   "execution_count": 38,
   "id": "7a1e8db5-384b-4762-95dc-7f9b385be289",
   "metadata": {},
   "outputs": [],
   "source": [
    "from scipy.spatial import distance\n",
    "my_list=[]\n",
    "for i in range(n_clusters):\n",
    "    my_dict={}\n",
    "    \n",
    "    for j in range(len(y_kmeans)):\n",
    "        \n",
    "        if y_kmeans[j]==i:\n",
    "            my_dict[j] =  distance.euclidean(kmeans.cluster_centers_[i],sent_vector[j])\n",
    "    min_distance = min(my_dict.values())\n",
    "    my_list.append(min(my_dict, key=my_dict.get))\n",
    " "
   ]
  },
  {
   "cell_type": "markdown",
   "id": "bbc29890-46a5-4f8c-8689-1979e411068b",
   "metadata": {},
   "source": [
    "#### The summary"
   ]
  },
  {
   "cell_type": "code",
   "execution_count": 39,
   "id": "564949d1-6e7e-4b46-baf7-8a9f105489f3",
   "metadata": {},
   "outputs": [
    {
     "name": "stdout",
     "output_type": "stream",
     "text": [
      "Bij besluit van 27 oktober 1998 heeft verweerder met gebruikmaking van de op 22 juli 1998 van gedeputeerde staten van Gelderland ontvangen verklaring van geen bezwaar aan Grondexploitatiemaatschappij Waalsprong (GEM) (verder: vergunninghouder sub 2), vrijstelling verleend van het bestemmingsplan \"Buitengebied Valburg\" ten aanzien van bestemming, gebruik, bebouwing en aanleg van werken ten behoeve van het bouwrijpmaken voor de woningbouw eerste fase Woonpark Oosterhout (Oosterhout Midden).\n",
      "II.\n",
      "Overwegingen.\n",
      "Beslissing.\n",
      "van der Bend als griffier.\n"
     ]
    },
    {
     "name": "stderr",
     "output_type": "stream",
     "text": [
      "100%|\u001b[32m██████████\u001b[0m| 1000/1000 [3:07:57<00:00, 31.78it/s]"
     ]
    }
   ],
   "source": [
    "for i in sorted(my_list):\n",
    "    print(sentence[i])"
   ]
  },
  {
   "cell_type": "markdown",
   "id": "f057fcaf-b9cb-4333-bb7d-3ed141606b8f",
   "metadata": {},
   "source": [
    "<a id=\"transformer\"></a>\n",
    "### Transformer models\n",
    "\n",
    "#### BERT"
   ]
  },
  {
   "cell_type": "code",
   "execution_count": null,
   "id": "410b5d38-9ae3-4b6e-a9ae-0712db3733df",
   "metadata": {},
   "outputs": [],
   "source": [
    "!pip install spacy"
   ]
  },
  {
   "cell_type": "code",
   "execution_count": 4,
   "id": "eadeb8ee-016d-48a6-964c-7dbd3c5652e5",
   "metadata": {},
   "outputs": [],
   "source": [
    "from summarizer import Summarizer, TransformerSummarizer"
   ]
  },
  {
   "cell_type": "code",
   "execution_count": 38,
   "id": "21273127-7b16-4562-afcf-c2b0c9ffe709",
   "metadata": {},
   "outputs": [],
   "source": [
    "def clean_text(text):\n",
    "    text = text.replace('\\n',' ')\n",
    "    text = re.sub(\" +\", \" \", text)\n",
    "    text = re.sub(r' (?<!\\S)\\d+(\\.\\d+)+(?!\\S) ', '', text)\n",
    "    \n",
    "    dutch_headers = [\n",
    "    \"Inleiding\", \"Samenvatting\", \"Achtergrond\", \"Methodologie\", \"Resultaten\",\n",
    "    \"Discussie\", \"Conclusie\", \"Literatuuronderzoek\", \"Onderzoeksvraag\", \"Doelstelling\",\n",
    "    \"Materiaal en Methoden\", \"Analyse\", \"Bespreking van Resultaten\", \"Implicaties\",\n",
    "    \"Toekomstig Onderzoek\", \"Referenties\", \"Bijlagen\", \"Verantwoording\", \"Abstract\",\n",
    "    \"Probleemstelling\", \"Onderzoeksmethode\", \"Data-analyse\", \"Statistische Analyse\",\n",
    "    \"Experimenteel Ontwerp\", \"Case Study\", \"Literatuuroverzicht\", \"Conceptueel Kader\",\n",
    "    \"Hypothesen\", \"Onderzoeksopzet\", \"Onderzoekspopulatie\", \"Steekproefomvang\",\n",
    "    \"Variabelen\", \"Meetinstrumenten\", \"Validiteit\", \"Betrouwbaarheid\", \"Resultaatinterpretatie\",\n",
    "    \"Kritische Reflectie\", \"Praktische Implicaties\", \"Beperkingen van het Onderzoek\",\n",
    "    \"Aanbevelingen\", \"Literatuurlijst\", \"Voetnoten\", \"Begrippenlijst\", \"Dankwoord\",\n",
    "    \"Voorwoord\", \"Abstract\", \"Theoretisch Kader\", \"Ethische Overwegingen\"\n",
    "    ]\n",
    "    dutch_head = '|'.join(dutch_headers)\n",
    "\n",
    "    text = re.sub(dutch_head, '',text)\n",
    "    text = text.strip()\n",
    "    return text"
   ]
  },
  {
   "cell_type": "code",
   "execution_count": 45,
   "id": "bc953608-e43e-4398-8bcc-432ae971906c",
   "metadata": {},
   "outputs": [
    {
     "name": "stderr",
     "output_type": "stream",
     "text": [
      "Some weights of the model checkpoint at bert-large-uncased were not used when initializing BertModel: ['cls.seq_relationship.weight', 'cls.predictions.bias', 'cls.predictions.transform.LayerNorm.weight', 'cls.seq_relationship.bias', 'cls.predictions.decoder.weight', 'cls.predictions.transform.dense.weight', 'cls.predictions.transform.LayerNorm.bias', 'cls.predictions.transform.dense.bias']\n",
      "- This IS expected if you are initializing BertModel from the checkpoint of a model trained on another task or with another architecture (e.g. initializing a BertForSequenceClassification model from a BertForPreTraining model).\n",
      "- This IS NOT expected if you are initializing BertModel from the checkpoint of a model that you expect to be exactly identical (initializing a BertForSequenceClassification model from a BertForSequenceClassification model).\n",
      "C:\\Users\\Chloe\\Anaconda3\\lib\\site-packages\\sklearn\\cluster\\_kmeans.py:1036: UserWarning: KMeans is known to have a memory leak on Windows with MKL, when there are less chunks than available threads. You can avoid it by setting the environment variable OMP_NUM_THREADS=1.\n",
      "  warnings.warn(\n",
      "C:\\Users\\Chloe\\Anaconda3\\lib\\site-packages\\sklearn\\cluster\\_kmeans.py:1036: UserWarning: KMeans is known to have a memory leak on Windows with MKL, when there are less chunks than available threads. You can avoid it by setting the environment variable OMP_NUM_THREADS=1.\n",
      "  warnings.warn(\n"
     ]
    },
    {
     "name": "stdout",
     "output_type": "stream",
     "text": [
      "ecli:  ECLI:NL:CBB:2022:113\n",
      "inhoudsindicatie:  \n",
      "Wet marktordening gezondheidszorg, artikel 47 en 48\n",
      "\n",
      "Marktanalysebesluit gericht aan een zorgaanbieder. Bij het marktanalysebesluit is aan de zorgaanbieder een transparantieverplichting en een contracteerverplichting opgelegd omdat de zorgaanbieder volgens de NZa op een aantal relevante markten over aanmerkelijke marktmacht (AMM) beschikt waardoor sprake is van (potentiële) mededingingsproblemen.\n",
      "\n",
      "Het College komt tot het oordeel dat de zorgaanbieder over AMM beschikt. Er is geen sprake van een zodanige afnemersmacht bij de zorgverzekeraars dat de marktmacht van de zorgaanbieder daardoor wordt gecompenseerd. Er is sprake van (potentiële) mededingingsproblemen. Aangezien de opgelegde verplichtingen geschikt zijn om de door de NZa geconstateerde mededingingsproblemen (uitbuiting) op te lossen, de oplossing daarvan noodzakelijk is om zorgverzekeraars hun door de wetgever beoogde rol in het zorgstelsel waar te laten maken, gekozen is voor de lichtst mogelijke middelen en deze niet tot disproportioneel nadeel voor de zorgaanbieder leiden, voldoet het bestreden besluit aan het evenredigheidsbeginsel zoals gecodificeerd in artikel 3:4, tweede lid, van de Algemene wet bestuursrecht.\n",
      "\n",
      "BERT summary:  Appellante heeft tegen het bestreden besluit beroep ingesteld. Verweerster heeft zich laten vertegenwoordigen door [naam 4] en [naam 5] , bijgestaan door haar gemachtigden. \n",
      " Bij de beoordeling van het beroep gaat het College uit van de volgende feiten en omstandigheden. Appellante is een zorgaanbieder in de zin van de Wet marktordening gezondheidszorg (Wmg) van geestelijke gezondheidszorg (ggz) in de regio Zeeland. Ook hebben er gesprekken met appellante en met zorgverzekeraars plaatsgevonden. In het Plan van Aanpak moet onder andere aandacht worden besteed aan de indicatoren klinisch opnamepercentage en gemiddelde klinische ligduur. Deze toepassing kent drie stappen. Eén van de factoren om te bepalen of betrokken zorgaanbieder(s) of ziektekostenverzekeraar(s) AMM hebben, is hun marktaandeel. Bij een marktaandeel tussen 40% en 55% is het aannemelijk dat een partij AMM heeft. Verweerster voert op grond van de Beleidsregel een prioriteringsbeleid om te bepalen of onderzoek wordt gedaan naar AMM. Deze criteria zijn niet cumulatief. onderhandelingsresultaten met betrekking tot appellante genoemd. Dit was aanleiding een AMM-onderzoek te starten. Voor zover appellante dus betoogt dat het bestreden besluit om deze redenen onrechtmatig is en geen stand kan houden, faalt het betoog. Het College verwijst naar overweginghiervoor. Wel bestrijdt zij dat zij AMM heeft. Het is voor CZ daarom geen reële optie geen overeenkomsten met appellante te sluiten of de bevoorschotting te staken. Verweerster heeft dus terecht vastgesteld dat appellante beschikt over AMM. De opgelegde verplichtingen 6. Appellante voert aan dat op grond van artikel 48 van de Wmg geen grond bestaat voor oplegging van verplichtingen. Verweerster was niet gehouden onderzoek te doen naar de invloed van externe omstandigheden in Zeeland. Verweerster betwist dat de verplichtingen in strijd zijn met een goede werking van de zorgcontractering. Meer klinische opnames en een langere ligduur zijn mogelijk een gevolg van een ontoereikende ambulante organisatie en aanbod. Het College vindt steun in de memorie van toelichting bij de Wmg (Kamerstukken II, 2004-2005, 30 186, nr. De verplichtingen die kunnen worden opgelegd moeten dus tot doel hebben dit mededingingsprobleem te bestrijden. De verplichting voldoet ook aan de subsidiariteitseis. Aan de eis van subsidiariteit is dus ook voldaan. Uit het voorgaande volgt dat het beroep ongegrond is. \n",
      " Het College verklaart het beroep ongegrond. De beslissing is in het openbaar uitgesproken op 15 maart 2022.\n"
     ]
    }
   ],
   "source": [
    "bert_model = Summarizer()\n",
    "idx = 16\n",
    "procesverloop = clean_text(rs_df['procesverloop'][idx])\n",
    "overwegingen = clean_text(rs_df['overwegingen'][idx])\n",
    "beslissing =  clean_text(rs_df['beslissing'][idx])\n",
    "proces_summary = ''.join(bert_model(procesverloop, min_length=10, max_length=150))\n",
    "overw_summary = ''.join(bert_model(overwegingen, min_length=10, max_length=150))\n",
    "beslis_summary = ''.join(bert_model(beslissing, min_length=10, max_length=150))\n",
    "print(\"ecli: \", rs_df['ecli' ][idx])\n",
    "print(\"inhoudsindicatie: \", rs_df['inhoudsindicatie'][idx])\n",
    "print(\"BERT summary: \", proces_summary, '\\n' , overw_summary,'\\n' , beslis_summary)"
   ]
  },
  {
   "cell_type": "markdown",
   "id": "b2931085-4254-4fd0-99f4-b4e6bf4c60c6",
   "metadata": {},
   "source": [
    "#### GPT 2"
   ]
  },
  {
   "cell_type": "code",
   "execution_count": 7,
   "id": "d28469a4-82b9-4651-8ac4-1ec69774af05",
   "metadata": {},
   "outputs": [
    {
     "name": "stdout",
     "output_type": "stream",
     "text": [
      "Bij besluit van 2 oktober 2020 (het primaire besluit) heeft verweerder beslist op de aanvraag van appellant om een investeringssubsidie duurzame energie (ISDE) voor een warmtepomp in het kader van de Regeling nationale EZ-subsidies (Regeling). Verweerder heeft zich laten vertegenwoordigen door zijn gemachtigde. Bij brief van 20 oktober 2021 heeft het College verweerder verzocht zijn standpunt nader toe te lichten.\n"
     ]
    }
   ],
   "source": [
    "GPT2_model = TransformerSummarizer(transformer_type=\"GPT2\",transformer_model_key=\"gpt2-medium\")\n",
    "full = ''.join(GPT2_model(text, min_length=20))\n",
    "print(full)"
   ]
  },
  {
   "cell_type": "markdown",
   "id": "3a096859-dfe5-4ef8-83a0-aea97ef11acb",
   "metadata": {},
   "source": [
    "<a id=\"part-sum\"></a>\n",
    "## Segmented summarization using XML data"
   ]
  },
  {
   "cell_type": "code",
   "execution_count": null,
   "id": "a1520f3f-3c53-439a-982d-6ead668fc7ea",
   "metadata": {},
   "outputs": [],
   "source": [
    "# load csv"
   ]
  },
  {
   "cell_type": "markdown",
   "id": "76b992dc-3cac-4769-b9ab-891e681107d0",
   "metadata": {},
   "source": [
    "## Evaluating Summarization Methods"
   ]
  },
  {
   "cell_type": "markdown",
   "id": "6f359f85-2316-4509-beea-a4715f7d8949",
   "metadata": {},
   "source": [
    "<a id=\"sources\"></a>\n",
    "### Interesting Sources\n",
    "\n",
    "<b>Extractive Summarization - full text</b>\n",
    "- [Summarization using k-means clustering](https://medium.com/@akankshagupta371/understanding-text-summarization-using-k-means-clustering-6487d5d37255)\n",
    "- [Understanding Text Summarization](https://medium.com/towards-data-science/understanding-automatic-text-summarization-1-extractive-methods-8eb512b21ecc)\n",
    "- [Extractive summarization using transformers](https://medium.com/analytics-vidhya/text-summarization-using-bert-gpt2-xlnet-5ee80608e961)\n",
    "\n",
    "<b>Query-based Summarization</b>\n",
    "- [Query-based Summarization explanation](https://medium.com/@fenil.h.dedhia/query-based-summarization-in-action-ea729df3109c)\n",
    "- [Agolo's Query-based summarization](https://medium.com/@abdarhman.abdelhamid/agolos-query-focused-summarization-uses-information-retrieval-methods-for-open-domain-5b52eca09bac)\n",
    "- [Query-based Summarization tutorial using Azure](https://learn.microsoft.com/en-us/azure/architecture/ai-ml/guide/query-based-summarization)\n",
    "\n"
   ]
  }
 ],
 "metadata": {
  "kernelspec": {
   "display_name": "Python 3 (ipykernel)",
   "language": "python",
   "name": "python3"
  },
  "language_info": {
   "codemirror_mode": {
    "name": "ipython",
    "version": 3
   },
   "file_extension": ".py",
   "mimetype": "text/x-python",
   "name": "python",
   "nbconvert_exporter": "python",
   "pygments_lexer": "ipython3",
   "version": "3.9.12"
  }
 },
 "nbformat": 4,
 "nbformat_minor": 5
}
